{
 "cells": [
  {
   "cell_type": "markdown",
   "metadata": {},
   "source": [
    "This notebook showcases how our best model works. First, we import all necessary libraries."
   ]
  },
  {
   "cell_type": "code",
   "execution_count": 1,
   "metadata": {
    "tags": []
   },
   "outputs": [
    {
     "name": "stdout",
     "output_type": "stream",
     "text": [
      "Requirement already satisfied: gdown in /opt/conda/lib/python3.10/site-packages (5.1.0)\n",
      "Requirement already satisfied: h5py in /opt/conda/lib/python3.10/site-packages (3.11.0)\n",
      "Requirement already satisfied: beautifulsoup4 in /opt/conda/lib/python3.10/site-packages (from gdown) (4.12.3)\n",
      "Requirement already satisfied: filelock in /opt/conda/lib/python3.10/site-packages (from gdown) (3.13.1)\n",
      "Requirement already satisfied: requests[socks] in /opt/conda/lib/python3.10/site-packages (from gdown) (2.31.0)\n",
      "Requirement already satisfied: tqdm in /opt/conda/lib/python3.10/site-packages (from gdown) (4.66.2)\n",
      "Requirement already satisfied: numpy>=1.17.3 in /opt/conda/lib/python3.10/site-packages (from h5py) (1.25.2)\n",
      "Requirement already satisfied: soupsieve>1.2 in /opt/conda/lib/python3.10/site-packages (from beautifulsoup4->gdown) (2.5)\n",
      "Requirement already satisfied: charset-normalizer<4,>=2 in /opt/conda/lib/python3.10/site-packages (from requests[socks]->gdown) (3.3.2)\n",
      "Requirement already satisfied: idna<4,>=2.5 in /opt/conda/lib/python3.10/site-packages (from requests[socks]->gdown) (3.6)\n",
      "Requirement already satisfied: urllib3<3,>=1.21.1 in /opt/conda/lib/python3.10/site-packages (from requests[socks]->gdown) (1.26.18)\n",
      "Requirement already satisfied: certifi>=2017.4.17 in /opt/conda/lib/python3.10/site-packages (from requests[socks]->gdown) (2024.2.2)\n",
      "Requirement already satisfied: PySocks!=1.5.7,>=1.5.6 in /opt/conda/lib/python3.10/site-packages (from requests[socks]->gdown) (1.7.1)\n"
     ]
    },
    {
     "name": "stderr",
     "output_type": "stream",
     "text": [
      "Downloading...\n",
      "From (original): https://drive.google.com/uc?id=1s6caFNRpyR9m7ZM6XEv_e8mcXT3_PnHS\n",
      "From (redirected): https://drive.google.com/uc?id=1s6caFNRpyR9m7ZM6XEv_e8mcXT3_PnHS&confirm=t&uuid=76f3d130-21cc-4c3d-8627-b2d4590052d6\n",
      "To: /home/jupyter/Week6Pt2/IT_data.h5\n",
      "100%|██████████| 384M/384M [00:02<00:00, 134MB/s]  \n"
     ]
    },
    {
     "name": "stdout",
     "output_type": "stream",
     "text": [
      "Requirement already satisfied: torchinfo in /opt/conda/lib/python3.10/site-packages (1.8.0)\n",
      "Note: you may need to restart the kernel to use updated packages.\n"
     ]
    }
   ],
   "source": [
    "import sys\n",
    "sys.path.append('./../')\n",
    "!{sys.executable} -m pip install gdown h5py\n",
    "\n",
    "from utils import load_it_data, visualize_img\n",
    "import matplotlib.pyplot as plt\n",
    "import numpy as np\n",
    "import os\n",
    "import os.path as op\n",
    "import pandas as pd\n",
    "import gdown\n",
    "url = \"https://drive.google.com/file/d/1s6caFNRpyR9m7ZM6XEv_e8mcXT3_PnHS/view?usp=share_link\"\n",
    "output = \"IT_data.h5\"\n",
    "gdown.download(url, output, quiet=False, fuzzy=True)\n",
    "\n",
    "try:\n",
    "    %pip install torchinfo\n",
    "except:\n",
    "    print(\"Couldn't install torchinfo\")\n",
    "\n",
    "# Extra imports\n",
    "import torch\n",
    "import torch.nn as nn\n",
    "import torch.nn.functional as F\n",
    "import torchvision\n",
    "from torchinfo import summary\n",
    "from torchvision.models import densenet169, DenseNet169_Weights\n",
    "from sklearn.decomposition import PCA\n",
    "from sklearn.model_selection import StratifiedKFold\n",
    "from sklearn.linear_model import RidgeCV, LinearRegression, Ridge, Lasso, ElasticNet\n",
    "from sklearn.metrics import r2_score\n",
    "from scipy.stats import pearsonr\n",
    "import seaborn as sns\n",
    "import pickle as pk\n",
    "import joblib\n",
    "import warnings\n",
    "warnings.filterwarnings('ignore')\n",
    "\n",
    "# Set seeds for reproducibility\n",
    "seed = 42\n",
    "torch.backends.cudnn.deterministic = True\n",
    "torch.backends.cudnn.benchmark = False\n",
    "torch.manual_seed(seed)\n",
    "torch.cuda.manual_seed(seed)\n",
    "\n",
    "# Set device\n",
    "device = torch.device(\"cuda\" if torch.cuda.is_available() else \"cpu\")"
   ]
  },
  {
   "cell_type": "markdown",
   "metadata": {},
   "source": [
    "Then, we load the data and prepare it."
   ]
  },
  {
   "cell_type": "code",
   "execution_count": 2,
   "metadata": {
    "tags": []
   },
   "outputs": [],
   "source": [
    "# Load the data\n",
    "path_to_data = \"\" ## Insert the folder where the data is, if you download in the same folder as this notebook then leave it blank\n",
    "stimulus_train, stimulus_val, stimulus_test, objects_train, objects_val, objects_test, spikes_train, spikes_val = load_it_data(path_to_data)\n",
    "\n",
    "# Prepare data\n",
    "stimulus_train = torch.from_numpy(stimulus_train).to(device)\n",
    "stimulus_train.require_grad = False\n",
    "stimulus_val = torch.from_numpy(stimulus_val).to(device)\n",
    "stimulus_val.require_grad = False"
   ]
  },
  {
   "cell_type": "markdown",
   "metadata": {},
   "source": [
    "Next, we define all helper functions."
   ]
  },
  {
   "cell_type": "code",
   "execution_count": 7,
   "metadata": {
    "tags": []
   },
   "outputs": [],
   "source": [
    "# Function to extract and return the activations of some layer of interest\n",
    "# This function is actually somewhat of a modified forward function that just gets what we need.\n",
    "def layerActivationExtractor(model, input, layer_name):\n",
    "    \"\"\"\n",
    "    Arguments :\n",
    "    - model : the densenet-169 model\n",
    "    - input : the images, of size N_images x H x W\n",
    "    - layer_name : the name of the layer of interest\n",
    "    \n",
    "    Output : activations, ndarray of size N_images x (shape_activations)\n",
    "    \n",
    "    Description :\n",
    "    This function gets the activations for all images for one layer of interest.\n",
    "    It sequentially passes the input through the layers manually, stopping after the layer of interest to return the activations.\n",
    "    In order, and thanks to the summary in the previous cell, we know that the input passes through the layers... \n",
    "    - conv0\n",
    "    - norm0\n",
    "    - relu0\n",
    "    - pool0\n",
    "    - denseblock1\n",
    "    - transition1\n",
    "    - denseblock2\n",
    "    - transition2\n",
    "    - denseblock3\n",
    "    - transition3\n",
    "    - denseblock4\n",
    "    - norm5\n",
    "    - classifier\n",
    "    \"\"\"\n",
    "    if layer_name not in [\"conv0\", \"transition1\", \"transition2\", \"transition3\", \"norm5\"]:\n",
    "        raise ValueError(\"Non-compatible layer name.\")\n",
    "    \n",
    "    all_activations = np.repeat(None, input.shape[0])\n",
    "    for i in range(input.shape[0]):\n",
    "        # Resize each to the appropriate size of 1 x 3 x 224 x 224\n",
    "        model_input = input[i].unsqueeze(0)\n",
    "        # Pass through conv1\n",
    "        activation = model.features.conv0(model_input)\n",
    "        # This is a layer of interest, let's grab the activations\n",
    "        if layer_name == \"conv0\":\n",
    "            activation.require_grad = False\n",
    "            all_activations[i] = activation.flatten().cpu().detach().numpy()\n",
    "            continue\n",
    "\n",
    "        # Pass through norm0\n",
    "        activation = model.features.norm0(activation)\n",
    "        # Pass through relu0\n",
    "        activation = model.features.relu0(activation)\n",
    "        # Pass through pool0\n",
    "        activation = model.features.pool0(activation)\n",
    "\n",
    "        # Pass through denseblock1\n",
    "        activation = model.features.denseblock1(activation)\n",
    "        # Pass through transition1\n",
    "        activation = model.features.transition1(activation)\n",
    "        # This is a layer of interest, let's grab the activations\n",
    "        if layer_name == \"transition1\":\n",
    "            activation.require_grad = False\n",
    "            all_activations[i] = activation.flatten().cpu().detach().numpy()\n",
    "\n",
    "        # Pass through denseblock2\n",
    "        activation = model.features.denseblock2(activation)\n",
    "        # Pass through transition2\n",
    "        activation = model.features.transition2(activation)\n",
    "        # This is a layer of interest, let's grab the activations\n",
    "        if layer_name == \"transition2\":\n",
    "            activation.require_grad = False\n",
    "            all_activations[i] = activation.flatten().cpu().detach().numpy()\n",
    "\n",
    "        # Pass through denseblock3\n",
    "        activation = model.features.denseblock3(activation)\n",
    "        # Pass through transition3\n",
    "        activation = model.features.transition3(activation)\n",
    "        # This is a layer of interest, let's grab the activations\n",
    "        if layer_name == \"transition3\":\n",
    "            activation.require_grad = False\n",
    "            all_activations[i] = activation.flatten().cpu().detach().numpy()\n",
    "\n",
    "        # Pass through denseblock4\n",
    "        activation = model.features.denseblock4(activation)\n",
    "        # Pass through norm5\n",
    "        activation = model.features.norm5(activation)\n",
    "        # This is a layer of interest, let's grab the activations\n",
    "        if layer_name == \"norm5\":\n",
    "            activation.require_grad = False\n",
    "            all_activations[i] = activation.flatten().cpu().detach().numpy()\n",
    "    \n",
    "    # We don't care about the model's actual output, so we don't pass through the final layer.\n",
    "\n",
    "    return np.stack(all_activations)\n",
    "\n",
    "# Define the two evaluation metrics\n",
    "## Pearson correlation\n",
    "def pearson_correlation(y_true, y_pred):\n",
    "      n_neurons = y_true.shape[1]\n",
    "      corrs = np.zeros(n_neurons)\n",
    "      for i in range(n_neurons):\n",
    "            corrs[i] = pearsonr(y_true[:, i], y_pred[:, i])[0]\n",
    "      return corrs\n",
    "\n",
    "## Explained variance\n",
    "def R_squared(y_true, y_pred):\n",
    "      n_neurons = y_true.shape[1]\n",
    "      Rs_squared = np.zeros(n_neurons)\n",
    "      for i in range(n_neurons):\n",
    "            Rs_squared[i] = r2_score(y_true[:, i], y_pred[:, i])\n",
    "      return Rs_squared"
   ]
  },
  {
   "cell_type": "markdown",
   "metadata": {},
   "source": [
    "Now, we load all prequired models."
   ]
  },
  {
   "cell_type": "code",
   "execution_count": 5,
   "metadata": {
    "tags": []
   },
   "outputs": [],
   "source": [
    "# Loading the pretrained ResNet50 model\n",
    "weights = DenseNet169_Weights.DEFAULT\n",
    "model = densenet169(weights = weights, progress = True).to(device)\n",
    "# As we won't be training the model (it's already pretrained, we just want the activations in the intermediate layers) we can set require_grad to False for all params.\n",
    "for param in model.parameters():\n",
    "    param.require_grad = False\n",
    "\n",
    "# Load fitted PCA model\n",
    "pca = joblib.load(\"pca.joblib\")\n",
    "\n",
    "# Load fitted ridge model\n",
    "ridge = joblib.load(\"ridge.joblib\")"
   ]
  },
  {
   "cell_type": "markdown",
   "metadata": {},
   "source": [
    "Now, we make predictions on the validation set."
   ]
  },
  {
   "cell_type": "code",
   "execution_count": 8,
   "metadata": {
    "tags": []
   },
   "outputs": [],
   "source": [
    "# First extract activations\n",
    "activations = layerActivationExtractor(model, stimulus_val, \"norm5\")\n",
    "# Then extract PCs\n",
    "pcs = pca.transform(activations)\n",
    "# Finally, predict the spikes\n",
    "y_pred = ridge.predict(pcs)"
   ]
  },
  {
   "cell_type": "markdown",
   "metadata": {},
   "source": [
    "Finally, we plot the results."
   ]
  },
  {
   "cell_type": "code",
   "execution_count": 15,
   "metadata": {
    "tags": []
   },
   "outputs": [
    {
     "data": {
      "image/png": "[encoded data removed]",
      "text/plain": [
       "<Figure size 640x480 with 1 Axes>"
      ]
     },
     "metadata": {},
     "output_type": "display_data"
    }
   ],
   "source": [
    "metric_names = [\"Pearson correlation\", \"Explained variance\"]\n",
    "\n",
    "# Compute correlation and explained variance\n",
    "corr = pearson_correlation(spikes_val, y_pred)\n",
    "explVar = R_squared(spikes_val, y_pred)\n",
    "\n",
    "# Plot correlation and explained variance in a barplot\n",
    "plt.bar(range(2), [np.mean(corr), np.mean(explVar)], yerr = [[np.mean(corr)-np.min(corr), np.mean(explVar)-np.min(explVar)], [np.max(corr)-np.mean(corr), np.max(explVar)-np.mean(explVar)]])\n",
    "\n",
    "# Polish graph\n",
    "plt.text(0, np.mean(corr) + 0.01, s = np.round(np.mean(corr),3),ha='center')\n",
    "plt.text(1, np.mean(explVar) + 0.01, s = np.round(np.mean(explVar),3),ha='center')\n",
    "plt.xticks(range(2), metric_names)\n",
    "\n",
    "plt.title('Mean, min, and max correlation and explained variance for the best model')\n",
    "plt.show()"
   ]
  },
  {
   "cell_type": "markdown",
   "metadata": {},
   "source": [
    "And we find the exact same results as in the report.\n",
    "\n",
    "N.B. to create the pca.joblib and ridge.joblib files, run the next file."
   ]
  },
  {
   "cell_type": "code",
   "execution_count": null,
   "metadata": {},
   "outputs": [],
   "source": [
    "layer_name = \"norm5\"\n",
    "# Get activations\n",
    "activations_train = layerActivationExtractor(model, stimulus_train, layer_name) \n",
    "activations_val = layerActivationExtractor(model, stimulus_val, layer_name)\n",
    "\n",
    "# Run a PCA and get the PCs\n",
    "n_PCs = 1000\n",
    "pca = PCA(n_components = n_PCs)\n",
    "pca = pca.fit(np.concatenate((activations_train, activations_val), axis = 0))\n",
    "pcs_train = pca.transform(activations_train)\n",
    "pcs_val = pca.transform(activations_val)\n",
    "\n",
    "# Save the trained PCA in a pickle file\n",
    "joblib.dump(pca, \"pca.joblib\") \n",
    "\n",
    "# Run ridge regression\n",
    "ridge = Ridge(alpha=109000, solver='svd')\n",
    "ridge.fit(pcs_train,spikes_train)\n",
    "\n",
    "joblib.dump(ridge, \"ridge.joblib\")"
   ]
  }
 ],
 "metadata": {
  "environment": {
   "kernel": "python3",
   "name": ".m119",
   "type": "gcloud",
   "uri": "us-docker.pkg.dev/deeplearning-platform-release/gcr.io/:m119"
  },
  "kernelspec": {
   "display_name": "Python 3",
   "language": "python",
   "name": "python3"
  },
  "language_info": {
   "codemirror_mode": {
    "name": "ipython",
    "version": 3
   },
   "file_extension": ".py",
   "mimetype": "text/x-python",
   "name": "python",
   "nbconvert_exporter": "python",
   "pygments_lexer": "ipython3",
   "version": "3.10.14"
  }
 },
 "nbformat": 4,
 "nbformat_minor": 4
}
